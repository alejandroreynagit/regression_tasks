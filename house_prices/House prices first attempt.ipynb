{
 "cells": [
  {
   "cell_type": "code",
   "execution_count": 1,
   "metadata": {},
   "outputs": [],
   "source": [
    "# import useful libraries\n",
    "from ipywidgets import widgets, Layout\n",
    "from IPython.display import display, clear_output, HTML, Image"
   ]
  },
  {
   "cell_type": "code",
   "execution_count": 2,
   "metadata": {},
   "outputs": [
    {
     "data": {
      "text/html": [
       "<script>\n",
       "code_show=true; \n",
       "function code_toggle() {\n",
       " if (code_show){\n",
       " $('div.input').hide();\n",
       " } else {\n",
       " $('div.input').show();\n",
       " }\n",
       " code_show = !code_show\n",
       "} \n",
       "$( document ).ready(code_toggle);\n",
       "</script>\n",
       "<form action=\"javascript:code_toggle()\"><input type=\"submit\" value=\"Click here to toggle on/off the raw code.\"></form>"
      ],
      "text/plain": [
       "<IPython.core.display.HTML object>"
      ]
     },
     "execution_count": 2,
     "metadata": {},
     "output_type": "execute_result"
    }
   ],
   "source": [
    "HTML('''<script>\n",
    "code_show=true; \n",
    "function code_toggle() {\n",
    " if (code_show){\n",
    " $('div.input').hide();\n",
    " } else {\n",
    " $('div.input').show();\n",
    " }\n",
    " code_show = !code_show\n",
    "} \n",
    "$( document ).ready(code_toggle);\n",
    "</script>\n",
    "<form action=\"javascript:code_toggle()\"><input type=\"submit\" value=\"Click here to toggle on/off the raw code.\"></form>''')"
   ]
  },
  {
   "cell_type": "markdown",
   "metadata": {},
   "source": [
    "<img src=\"info/SchoolOfAI_MTY_Logo2.png\" ,width=700,height=100 >"
   ]
  },
  {
   "cell_type": "code",
   "execution_count": 3,
   "metadata": {},
   "outputs": [],
   "source": [
    "def estimate_house_sales_price(_):\n",
    "    ''' This function considers some features to calculate / estimate house prices\n",
    "    input arguments: None\n",
    "        Values are obatined from user input interaction\n",
    "    output: (float) estimated house price\n",
    "    '''\n",
    "    \n",
    "    # Get input values from user\n",
    "    neighborhood = menu.value\n",
    "    sqm = slider.value\n",
    "    num_of_bedrooms = int(float(text1.value))\n",
    "    \n",
    "    # Define price variable\n",
    "    price = 0 \n",
    "    \n",
    "    # In my area, the average house costs $200 per square meter\n",
    "    price_per_sqm = 200\n",
    "    \n",
    "    # Some areas cost a bit more\n",
    "    if neighborhood == \"fresa\":\n",
    "        price_per_sqm = 400.35\n",
    "    # And some areas cost less\n",
    "    elif neighborhood == \"barrio\":\n",
    "        price_per_sqm = 100.5\n",
    "    # Update house price\n",
    "    price = price_per_sqm * sqm\n",
    "    \n",
    "    # Adjust price estimated based on the number of bedrooms\n",
    "    if num_of_bedrooms == 0:\n",
    "        \n",
    "        # This might be an studio!\n",
    "        price = price - 20000.45\n",
    "    else:\n",
    "        # Something to consider\n",
    "        price = price + (num_of_bedrooms * 1000.5)\n",
    "    \n",
    "    # Output price\n",
    "    print('---------------------------------------')\n",
    "    print('Estimaded house price : {0:.2f} USD\\n'.format(price))"
   ]
  },
  {
   "cell_type": "markdown",
   "metadata": {},
   "source": [
    "### In order to predict a house considering only num of bedrooms, house size in sqm and neighborhood, input"
   ]
  },
  {
   "cell_type": "code",
   "execution_count": 4,
   "metadata": {},
   "outputs": [
    {
     "data": {
      "application/vnd.jupyter.widget-view+json": {
       "model_id": "f5e3a1b2dc014725ae08dbc7fe0cf3c0",
       "version_major": 2,
       "version_minor": 0
      },
      "text/plain": [
       "VBox(children=(Text(value='0', description='Num Bedrooms'), FloatSlider(value=100.0, description='Sqm', max=10…"
      ]
     },
     "metadata": {},
     "output_type": "display_data"
    }
   ],
   "source": [
    "# defining some widgets\n",
    "\n",
    "text1 = widgets.Text(\n",
    "       value='0',\n",
    "       description='Num Bedrooms', )\n",
    "slider = widgets.FloatSlider(\n",
    "         value=50,\n",
    "         min=100,\n",
    "         max=10000,\n",
    "         step=50,description='Sqm')\n",
    "menu = widgets.Dropdown(\n",
    "       options=['barrio', 'fresa'],\n",
    "       value='fresa',\n",
    "       description='Neighborhood:')\n",
    "\n",
    "box = widgets.VBox([text1, slider, menu])\n",
    "box"
   ]
  },
  {
   "cell_type": "code",
   "execution_count": 5,
   "metadata": {},
   "outputs": [
    {
     "data": {
      "application/vnd.jupyter.widget-view+json": {
       "model_id": "ff99651a49854deb8bead9b6aa75e698",
       "version_major": 2,
       "version_minor": 0
      },
      "text/plain": [
       "Button(description='CHECK PRICE', layout=Layout(height='100px', width='100%'), style=ButtonStyle())"
      ]
     },
     "metadata": {},
     "output_type": "display_data"
    }
   ],
   "source": [
    "button = widgets.Button(description='CHECK PRICE',\n",
    "           layout=Layout(width='100%', height='100px'), )\n",
    "\n",
    "\n",
    "# linking button and function together using a button's method\n",
    "button.on_click(estimate_house_sales_price)\n",
    "\n",
    "# displaying widgets and its output together\n",
    "# widgets.VBox([button,out])\n",
    "display(button)"
   ]
  },
  {
   "cell_type": "code",
   "execution_count": 6,
   "metadata": {},
   "outputs": [
    {
     "data": {
      "application/vnd.jupyter.widget-view+json": {
       "model_id": "7c92a77f14674371abc953fee0727793",
       "version_major": 2,
       "version_minor": 0
      },
      "text/plain": [
       "Button(description='CONCLUSION', layout=Layout(height='100px', width='100%'), style=ButtonStyle())"
      ]
     },
     "metadata": {},
     "output_type": "display_data"
    }
   ],
   "source": [
    "button = widgets.Button(description='CONCLUSION',\n",
    "           layout=Layout(width='100%', height='100px'), )\n",
    "\n",
    "def conlusion(_):\n",
    "    print('-------------------------------------------------------------------')\n",
    "    print('DO YOU THINK THIS IS THE BEST / ONLY WAY TO ESTIMATE HOUSE PRICES ?')\n",
    "    print('-------------------------------------------------------------------')\n",
    "    print('.')\n",
    "    print('.')\n",
    "    print('.')\n",
    "    print('.')\n",
    "    print('Let us do some Machine Learning stuff!')\n",
    "    display(Image(filename='info/ml_meme.png'))\n",
    "    \n",
    "# linking button and function together using a button's method\n",
    "button.on_click(conlusion)\n",
    "\n",
    "# displaying widgets and its output together\n",
    "# widgets.VBox([button,out])\n",
    "display(button)"
   ]
  }
 ],
 "metadata": {
  "kernelspec": {
   "display_name": "Python 3",
   "language": "python",
   "name": "python3"
  },
  "language_info": {
   "codemirror_mode": {
    "name": "ipython",
    "version": 3
   },
   "file_extension": ".py",
   "mimetype": "text/x-python",
   "name": "python",
   "nbconvert_exporter": "python",
   "pygments_lexer": "ipython3",
   "version": "3.6.5"
  }
 },
 "nbformat": 4,
 "nbformat_minor": 2
}
