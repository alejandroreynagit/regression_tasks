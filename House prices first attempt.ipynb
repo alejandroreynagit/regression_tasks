{
 "cells": [
  {
   "cell_type": "code",
   "execution_count": 1,
   "metadata": {},
   "outputs": [],
   "source": [
    "def estimate_house_sales_price(num_of_bedrooms, sqm, neighborhood):\n",
    "    price = 0 \n",
    "    # In my area, the average house costs $200 per square meter\n",
    "    price_per_sqm = 200\n",
    "    \n",
    "    # but some areas cost a bit more\n",
    "    if neighborhood == \"fresa\":\n",
    "        price_per_sqm = 400\n",
    "    # and some areas cost less\n",
    "    elif neighborhood == \"barrio\":\n",
    "        \n",
    "        price_per_sqm = 100\n",
    "    # start with a base price estimate based on how big the place is\n",
    "    price = price_per_sqm * sqm\n",
    "    \n",
    "    # now adjust our estimate based on the number of bedrooms\n",
    "    if num_of_bedrooms == 0:\n",
    "        # Studio apartments are cheap\n",
    "        price = price - 20000\n",
    "    else:\n",
    "        # places with more bedrooms are usually\n",
    "        # more valuable\n",
    "        price = price + (num_of_bedrooms * 1000)\n",
    "    return price"
   ]
  },
  {
   "cell_type": "code",
   "execution_count": 2,
   "metadata": {},
   "outputs": [
    {
     "data": {
      "text/plain": [
       "20003000"
      ]
     },
     "execution_count": 2,
     "metadata": {},
     "output_type": "execute_result"
    }
   ],
   "source": [
    "estimate_house_sales_price(3, 200000, \"barrio\")"
   ]
  },
  {
   "cell_type": "code",
   "execution_count": null,
   "metadata": {},
   "outputs": [],
   "source": []
  }
 ],
 "metadata": {
  "kernelspec": {
   "display_name": "Python 3",
   "language": "python",
   "name": "python3"
  },
  "language_info": {
   "codemirror_mode": {
    "name": "ipython",
    "version": 3
   },
   "file_extension": ".py",
   "mimetype": "text/x-python",
   "name": "python",
   "nbconvert_exporter": "python",
   "pygments_lexer": "ipython3",
   "version": "3.7.1"
  }
 },
 "nbformat": 4,
 "nbformat_minor": 2
}
